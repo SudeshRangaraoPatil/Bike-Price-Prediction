{
 "cells": [
  {
   "cell_type": "code",
   "execution_count": 1,
   "id": "cfaeeb7b",
   "metadata": {},
   "outputs": [],
   "source": [
    "import pandas as pd\n",
    "import numpy as np"
   ]
  },
  {
   "cell_type": "code",
   "execution_count": 32,
   "id": "d5515aff",
   "metadata": {},
   "outputs": [
    {
     "data": {
      "text/html": [
       "<div>\n",
       "<style scoped>\n",
       "    .dataframe tbody tr th:only-of-type {\n",
       "        vertical-align: middle;\n",
       "    }\n",
       "\n",
       "    .dataframe tbody tr th {\n",
       "        vertical-align: top;\n",
       "    }\n",
       "\n",
       "    .dataframe thead th {\n",
       "        text-align: right;\n",
       "    }\n",
       "</style>\n",
       "<table border=\"1\" class=\"dataframe\">\n",
       "  <thead>\n",
       "    <tr style=\"text-align: right;\">\n",
       "      <th></th>\n",
       "      <th>Unnamed: 0</th>\n",
       "      <th>Model_Name</th>\n",
       "      <th>Price</th>\n",
       "      <th>CC</th>\n",
       "      <th>Mileage</th>\n",
       "      <th>Weight</th>\n",
       "    </tr>\n",
       "  </thead>\n",
       "  <tbody>\n",
       "    <tr>\n",
       "      <th>0</th>\n",
       "      <td>0</td>\n",
       "      <td>Royal Enfield Himalayan</td>\n",
       "      <td>210784</td>\n",
       "      <td>411.0 CC</td>\n",
       "      <td>45 Km/l</td>\n",
       "      <td>191 Kg</td>\n",
       "    </tr>\n",
       "    <tr>\n",
       "      <th>1</th>\n",
       "      <td>1</td>\n",
       "      <td>Royal Enfield Classic Chrome</td>\n",
       "      <td>188868</td>\n",
       "      <td>499.0 CC</td>\n",
       "      <td>27 Km/l</td>\n",
       "      <td>194 Kg</td>\n",
       "    </tr>\n",
       "    <tr>\n",
       "      <th>2</th>\n",
       "      <td>2</td>\n",
       "      <td>Royal Enfield Meteor 350</td>\n",
       "      <td>205844</td>\n",
       "      <td>349.0 CC</td>\n",
       "      <td>41.88 Km/l</td>\n",
       "      <td>183 Kg</td>\n",
       "    </tr>\n",
       "    <tr>\n",
       "      <th>3</th>\n",
       "      <td>3</td>\n",
       "      <td>Royal Enfield Bullet 350</td>\n",
       "      <td>127094</td>\n",
       "      <td>346.0 CC</td>\n",
       "      <td>45 Km/l</td>\n",
       "      <td>183 Kg</td>\n",
       "    </tr>\n",
       "    <tr>\n",
       "      <th>4</th>\n",
       "      <td>4</td>\n",
       "      <td>Hero Splendor +</td>\n",
       "      <td>69380</td>\n",
       "      <td>97.2 CC</td>\n",
       "      <td>70 Km/l</td>\n",
       "      <td>110 Kg</td>\n",
       "    </tr>\n",
       "  </tbody>\n",
       "</table>\n",
       "</div>"
      ],
      "text/plain": [
       "   Unnamed: 0                    Model_Name   Price        CC     Mileage  \\\n",
       "0           0       Royal Enfield Himalayan  210784  411.0 CC     45 Km/l   \n",
       "1           1  Royal Enfield Classic Chrome  188868  499.0 CC     27 Km/l   \n",
       "2           2      Royal Enfield Meteor 350  205844  349.0 CC  41.88 Km/l   \n",
       "3           3      Royal Enfield Bullet 350  127094  346.0 CC     45 Km/l   \n",
       "4           4               Hero Splendor +   69380   97.2 CC     70 Km/l   \n",
       "\n",
       "   Weight  \n",
       "0  191 Kg  \n",
       "1  194 Kg  \n",
       "2  183 Kg  \n",
       "3  183 Kg  \n",
       "4  110 Kg  "
      ]
     },
     "execution_count": 32,
     "metadata": {},
     "output_type": "execute_result"
    }
   ],
   "source": [
    "bike=pd.read_csv('D:/sudesh/bike prediction model/bikes.csv')\n",
    "bike.head()"
   ]
  },
  {
   "cell_type": "code",
   "execution_count": 33,
   "id": "acb589f3",
   "metadata": {},
   "outputs": [
    {
     "data": {
      "text/plain": [
       "(3533, 6)"
      ]
     },
     "execution_count": 33,
     "metadata": {},
     "output_type": "execute_result"
    }
   ],
   "source": [
    "bike.shape\n"
   ]
  },
  {
   "cell_type": "code",
   "execution_count": 34,
   "id": "5d6d1fbd",
   "metadata": {},
   "outputs": [],
   "source": [
    "bike.drop(['Unnamed: 0'], axis=1, inplace=True)"
   ]
  },
  {
   "cell_type": "code",
   "execution_count": 35,
   "id": "a99e9816",
   "metadata": {},
   "outputs": [
    {
     "data": {
      "text/plain": [
       "array([ 210784,  188868,  205844,  127094,   69380,   72787,   69645,\n",
       "        184374,  144900,   64510,   78381,   48950,   95872,   73900,\n",
       "         72122,  115900,  123245,   93818,   67400,  180538,   98931,\n",
       "        160900,  157600,   61900,   59800,  111610,   74900,  130150,\n",
       "         65900,  298079,   49598,  203000, 7990000,  120214,   65950,\n",
       "        118230,   40990,  115800,  281518,   73450,   84573,  170800,\n",
       "       2039233,   65248,   65930,  131219,  112940,  132238,  213000,\n",
       "         52915,  129300,   70085,  129000,  122630,   70799,  337000,\n",
       "         77106,  134800,  111895,  211600,   72637,   40794,   49400,\n",
       "         72600,  110086,  314000,  171415,   70000,  108000,   67990,\n",
       "        196006,  228736,  111565,  250000,   73330,   59942, 1640000,\n",
       "        287545, 1055354,   52500,  138000,  620000, 1643309,  198142,\n",
       "         86500,   52554,  259000,  190000,  181900, 1537000, 1950000,\n",
       "         84300,  154176,   65865,  103950,   46413,  116800,  101094,\n",
       "        668000,   54042,   82566,  103891,  208187,  152179,   91492,\n",
       "       2045000,  126500,  176000, 3971822,   73400,  118800,   75733,\n",
       "        144500,  218000,   59925,  158939,  499000,  850000, 1151000,\n",
       "         99200,  196239, 1199000, 1850000,  144180, 3499000,  193142,\n",
       "        202755,  129315, 1510000,  308000,  290000,  189799,  215000,\n",
       "       2149086,  204900,  143300, 1585000, 1825000, 2830000,  277000,\n",
       "       1919000,  938000,  209900, 1698000,  242000,  180415, 4999000,\n",
       "       1350000, 1049000, 2350000,  935000, 2240000, 1099000,  299500,\n",
       "        145001,  803000,  117494, 1610000, 1790000, 2052356,  140000,\n",
       "       1970000, 2369000, 1250000,  899000,  863945, 1061000, 1465000,\n",
       "        122664,  251000,   85431,  915000, 1551000,  616000,  799000,\n",
       "       1269500,  199000, 2289000,  171200, 3883000, 2314000, 2532500,\n",
       "       2819000, 1849000,  335000, 1259000,  470000, 1099500,  867275,\n",
       "       1215000, 2810000,  469000,  884000, 1601500,  486000, 2075922,\n",
       "        120000, 3900000, 1375000, 1469000, 1080000, 1865000,  107595,\n",
       "       1089000, 1725000, 5182000,  687386, 1446657, 1698553, 1549000,\n",
       "       1599000,  745000,  126000,  406600, 2080665,  733000, 1479000,\n",
       "       1370000, 2010000,  229000, 1192000, 1625000,  310000, 2130000,\n",
       "       1835000, 2190000,   40850, 1225000,  429000, 1648000, 1675000,\n",
       "        949000, 3350000,  624000, 2140000, 1112000,  559000, 4200000,\n",
       "       1532000, 1555000,  980000, 1339000, 1990000, 3201000,  498000,\n",
       "        895000,  249000, 4800000, 1799000, 3053000, 2367000,  995000,\n",
       "       1899000,  115000, 1195000, 2499000, 2139925,  859000, 1073000,\n",
       "       1570000,  715000, 1459000, 1349000, 2390000, 1172000, 1690000,\n",
       "       1748826, 2250000, 3026000,  672000, 1695000,  795000, 1999000,\n",
       "        487800, 1402278, 1309000, 1505000, 2066000, 1971000,  529000,\n",
       "       2930000, 2999000, 1540000, 2282155, 2129500,  223000, 3299000,\n",
       "       3800000, 2102268, 1230000], dtype=int64)"
      ]
     },
     "execution_count": 35,
     "metadata": {},
     "output_type": "execute_result"
    }
   ],
   "source": [
    "bike['Price'].unique()"
   ]
  },
  {
   "cell_type": "code",
   "execution_count": null,
   "id": "b7712972",
   "metadata": {},
   "outputs": [],
   "source": []
  },
  {
   "cell_type": "code",
   "execution_count": 36,
   "id": "baa77aa4",
   "metadata": {},
   "outputs": [],
   "source": [
    "backup=bike.copy()\n",
    "\n"
   ]
  },
  {
   "cell_type": "code",
   "execution_count": null,
   "id": "643a3b44",
   "metadata": {},
   "outputs": [],
   "source": []
  },
  {
   "cell_type": "code",
   "execution_count": 37,
   "id": "08521760",
   "metadata": {},
   "outputs": [
    {
     "name": "stdout",
     "output_type": "stream",
     "text": [
      "<class 'pandas.core.frame.DataFrame'>\n",
      "RangeIndex: 3533 entries, 0 to 3532\n",
      "Data columns (total 5 columns):\n",
      " #   Column      Non-Null Count  Dtype \n",
      "---  ------      --------------  ----- \n",
      " 0   Model_Name  3533 non-null   object\n",
      " 1   Price       3533 non-null   int64 \n",
      " 2   CC          3533 non-null   object\n",
      " 3   Mileage     3506 non-null   object\n",
      " 4   Weight      3533 non-null   object\n",
      "dtypes: int64(1), object(4)\n",
      "memory usage: 138.1+ KB\n"
     ]
    }
   ],
   "source": [
    "bike.info()"
   ]
  },
  {
   "cell_type": "code",
   "execution_count": 38,
   "id": "67a717db",
   "metadata": {},
   "outputs": [],
   "source": [
    "bike['Price']=bike['Price'].astype(int)"
   ]
  },
  {
   "cell_type": "code",
   "execution_count": 39,
   "id": "0ed23903",
   "metadata": {},
   "outputs": [
    {
     "name": "stdout",
     "output_type": "stream",
     "text": [
      "<class 'pandas.core.frame.DataFrame'>\n",
      "RangeIndex: 3533 entries, 0 to 3532\n",
      "Data columns (total 5 columns):\n",
      " #   Column      Non-Null Count  Dtype \n",
      "---  ------      --------------  ----- \n",
      " 0   Model_Name  3533 non-null   object\n",
      " 1   Price       3533 non-null   int32 \n",
      " 2   CC          3533 non-null   object\n",
      " 3   Mileage     3506 non-null   object\n",
      " 4   Weight      3533 non-null   object\n",
      "dtypes: int32(1), object(4)\n",
      "memory usage: 124.3+ KB\n"
     ]
    }
   ],
   "source": [
    "bike.info()"
   ]
  },
  {
   "cell_type": "code",
   "execution_count": 40,
   "id": "2b955ac0",
   "metadata": {},
   "outputs": [
    {
     "data": {
      "text/plain": [
       "array(['411.0 CC', '499.0 CC', '349.0 CC', '346.0 CC', '97.2 CC',\n",
       "       '124.7 CC', '109.5 CC', '155.0 CC', '124.0 CC', '149.5 CC',\n",
       "       '124.4 CC', '149.0 CC', '220.0 CC', '113.2 CC', '162.7 CC',\n",
       "       '110.9 CC', '163.0 CC', '199.6 CC', '648.0 CC', '998.0 CC',\n",
       "       '99.7 CC', '124.6 CC', '124.8 CC', '115.0 CC', '199.5 CC',\n",
       "       '159.7 CC', '184.4 CC', '102.0 CC', '154.9 CC', '109.7 CC',\n",
       "       '296.0 CC', '249.0 CC', '160.3 CC', '373.2 CC', '293.0 CC',\n",
       "       '125.0 CC', '178.6 CC', '348.4 CC', '248.8 CC', '313.0 CC',\n",
       "       '1340.0 CC', '847.0 CC', '249.1 CC', '600.0 CC', '999.0 CC',\n",
       "       '334.0 CC', '124.3 CC', '87.8 CC', '312.2 CC', '177.4 CC',\n",
       "       '649.0 CC', '1254.0 CC', '1833.0 CC', '154.8 CC', '399.0 CC',\n",
       "       '948.0 CC', '1043.0 CC', '1133.0 CC', '1170.0 CC', '373.3 CC',\n",
       "       '197.8 CC', '374.0 CC', '798.0 CC', '1868.0 CC', '1649.0 CC',\n",
       "       '286.0 CC', '1160.0 CC', '883.0 CC', '248.0 CC', '1923.0 CC',\n",
       "       '999.1 CC', '636.0 CC', '1103.0 CC', '648.7 CC', '1202.0 CC',\n",
       "       '112.0 CC', '164.9 CC', '803.0 CC', '160.0 CC', '821.0 CC',\n",
       "       '1441.0 CC', '1099.0 CC', '853.0 CC', '799.0 CC', '937.0 CC',\n",
       "       '124.5 CC', '765.0 CC', '1252.0 CC', '1131.0 CC', '295.0 CC',\n",
       "       '1380.0 CC', '1811.0 CC', '1262.0 CC', '373.0 CC', '1745.0 CC',\n",
       "       '500.0 CC', '645.0 CC', '1084.0 CC', '1079.0 CC', '1890.0 CC',\n",
       "       '955.0 CC', '895.0 CC', '1285.0 CC', '471.0 CC', '660.0 CC',\n",
       "       '144.0 CC', '773.0 CC', '850.0 CC', '888.0 CC', '449.0 CC',\n",
       "       '1198.0 CC', '292.4 CC', '1200.0 CC', '300.0 CC', '48.0 CC',\n",
       "       '1203.0 CC', '1197.0 CC', '900.0 CC', '2025.7 CC', '649.3 CC',\n",
       "       '1198.4 CC', '659.0 CC', '2458.0 CC', '229.0 CC', '350.0 CC',\n",
       "       '1158.0 CC', '1802.0 CC', '99.0 CC', '1077.0 CC', '1078.0 CC'],\n",
       "      dtype=object)"
      ]
     },
     "execution_count": 40,
     "metadata": {},
     "output_type": "execute_result"
    }
   ],
   "source": [
    "bike['CC'].unique()"
   ]
  },
  {
   "cell_type": "code",
   "execution_count": 41,
   "id": "c0cfb32f",
   "metadata": {},
   "outputs": [],
   "source": [
    "bike=bike[~bike['CC'].isna()]"
   ]
  },
  {
   "cell_type": "code",
   "execution_count": 42,
   "id": "92a101ea",
   "metadata": {},
   "outputs": [
    {
     "data": {
      "text/html": [
       "<div>\n",
       "<style scoped>\n",
       "    .dataframe tbody tr th:only-of-type {\n",
       "        vertical-align: middle;\n",
       "    }\n",
       "\n",
       "    .dataframe tbody tr th {\n",
       "        vertical-align: top;\n",
       "    }\n",
       "\n",
       "    .dataframe thead th {\n",
       "        text-align: right;\n",
       "    }\n",
       "</style>\n",
       "<table border=\"1\" class=\"dataframe\">\n",
       "  <thead>\n",
       "    <tr style=\"text-align: right;\">\n",
       "      <th></th>\n",
       "      <th>Model_Name</th>\n",
       "      <th>Price</th>\n",
       "      <th>CC</th>\n",
       "      <th>Mileage</th>\n",
       "      <th>Weight</th>\n",
       "    </tr>\n",
       "  </thead>\n",
       "  <tbody>\n",
       "    <tr>\n",
       "      <th>0</th>\n",
       "      <td>Royal Enfield Himalayan</td>\n",
       "      <td>210784</td>\n",
       "      <td>411.0 CC</td>\n",
       "      <td>45 Km/l</td>\n",
       "      <td>191 Kg</td>\n",
       "    </tr>\n",
       "    <tr>\n",
       "      <th>1</th>\n",
       "      <td>Royal Enfield Classic Chrome</td>\n",
       "      <td>188868</td>\n",
       "      <td>499.0 CC</td>\n",
       "      <td>27 Km/l</td>\n",
       "      <td>194 Kg</td>\n",
       "    </tr>\n",
       "    <tr>\n",
       "      <th>2</th>\n",
       "      <td>Royal Enfield Meteor 350</td>\n",
       "      <td>205844</td>\n",
       "      <td>349.0 CC</td>\n",
       "      <td>41.88 Km/l</td>\n",
       "      <td>183 Kg</td>\n",
       "    </tr>\n",
       "    <tr>\n",
       "      <th>3</th>\n",
       "      <td>Royal Enfield Bullet 350</td>\n",
       "      <td>127094</td>\n",
       "      <td>346.0 CC</td>\n",
       "      <td>45 Km/l</td>\n",
       "      <td>183 Kg</td>\n",
       "    </tr>\n",
       "    <tr>\n",
       "      <th>4</th>\n",
       "      <td>Hero Splendor +</td>\n",
       "      <td>69380</td>\n",
       "      <td>97.2 CC</td>\n",
       "      <td>70 Km/l</td>\n",
       "      <td>110 Kg</td>\n",
       "    </tr>\n",
       "    <tr>\n",
       "      <th>...</th>\n",
       "      <td>...</td>\n",
       "      <td>...</td>\n",
       "      <td>...</td>\n",
       "      <td>...</td>\n",
       "      <td>...</td>\n",
       "    </tr>\n",
       "    <tr>\n",
       "      <th>3528</th>\n",
       "      <td>Royal Enfield Classic 350</td>\n",
       "      <td>184374</td>\n",
       "      <td>349.0 CC</td>\n",
       "      <td>37 Km/l</td>\n",
       "      <td>195 Kg</td>\n",
       "    </tr>\n",
       "    <tr>\n",
       "      <th>3529</th>\n",
       "      <td>Yamaha MT-15</td>\n",
       "      <td>144900</td>\n",
       "      <td>155.0 CC</td>\n",
       "      <td>48 Km/l</td>\n",
       "      <td>138 Kg</td>\n",
       "    </tr>\n",
       "    <tr>\n",
       "      <th>3530</th>\n",
       "      <td>Honda Dio</td>\n",
       "      <td>64510</td>\n",
       "      <td>109.5 CC</td>\n",
       "      <td>55 Km/l</td>\n",
       "      <td>103 Kg</td>\n",
       "    </tr>\n",
       "    <tr>\n",
       "      <th>3531</th>\n",
       "      <td>Honda SP 125</td>\n",
       "      <td>78381</td>\n",
       "      <td>124.0 CC</td>\n",
       "      <td>65 Km/l</td>\n",
       "      <td>117 Kg</td>\n",
       "    </tr>\n",
       "    <tr>\n",
       "      <th>3532</th>\n",
       "      <td>Hero HF Deluxe</td>\n",
       "      <td>48950</td>\n",
       "      <td>97.2 CC</td>\n",
       "      <td>83 Km/l</td>\n",
       "      <td>109 Kg</td>\n",
       "    </tr>\n",
       "  </tbody>\n",
       "</table>\n",
       "<p>3533 rows × 5 columns</p>\n",
       "</div>"
      ],
      "text/plain": [
       "                        Model_Name   Price        CC     Mileage  Weight\n",
       "0          Royal Enfield Himalayan  210784  411.0 CC     45 Km/l  191 Kg\n",
       "1     Royal Enfield Classic Chrome  188868  499.0 CC     27 Km/l  194 Kg\n",
       "2         Royal Enfield Meteor 350  205844  349.0 CC  41.88 Km/l  183 Kg\n",
       "3         Royal Enfield Bullet 350  127094  346.0 CC     45 Km/l  183 Kg\n",
       "4                  Hero Splendor +   69380   97.2 CC     70 Km/l  110 Kg\n",
       "...                            ...     ...       ...         ...     ...\n",
       "3528     Royal Enfield Classic 350  184374  349.0 CC     37 Km/l  195 Kg\n",
       "3529                  Yamaha MT-15  144900  155.0 CC     48 Km/l  138 Kg\n",
       "3530                     Honda Dio   64510  109.5 CC     55 Km/l  103 Kg\n",
       "3531                  Honda SP 125   78381  124.0 CC     65 Km/l  117 Kg\n",
       "3532                Hero HF Deluxe   48950   97.2 CC     83 Km/l  109 Kg\n",
       "\n",
       "[3533 rows x 5 columns]"
      ]
     },
     "execution_count": 42,
     "metadata": {},
     "output_type": "execute_result"
    }
   ],
   "source": [
    "bike.reset_index(drop=True)"
   ]
  },
  {
   "cell_type": "code",
   "execution_count": 43,
   "id": "983510c4",
   "metadata": {},
   "outputs": [
    {
     "data": {
      "text/html": [
       "<div>\n",
       "<style scoped>\n",
       "    .dataframe tbody tr th:only-of-type {\n",
       "        vertical-align: middle;\n",
       "    }\n",
       "\n",
       "    .dataframe tbody tr th {\n",
       "        vertical-align: top;\n",
       "    }\n",
       "\n",
       "    .dataframe thead th {\n",
       "        text-align: right;\n",
       "    }\n",
       "</style>\n",
       "<table border=\"1\" class=\"dataframe\">\n",
       "  <thead>\n",
       "    <tr style=\"text-align: right;\">\n",
       "      <th></th>\n",
       "      <th>Price</th>\n",
       "    </tr>\n",
       "  </thead>\n",
       "  <tbody>\n",
       "    <tr>\n",
       "      <th>count</th>\n",
       "      <td>3.533000e+03</td>\n",
       "    </tr>\n",
       "    <tr>\n",
       "      <th>mean</th>\n",
       "      <td>1.961142e+05</td>\n",
       "    </tr>\n",
       "    <tr>\n",
       "      <th>std</th>\n",
       "      <td>4.039524e+05</td>\n",
       "    </tr>\n",
       "    <tr>\n",
       "      <th>min</th>\n",
       "      <td>4.079400e+04</td>\n",
       "    </tr>\n",
       "    <tr>\n",
       "      <th>25%</th>\n",
       "      <td>6.964500e+04</td>\n",
       "    </tr>\n",
       "    <tr>\n",
       "      <th>50%</th>\n",
       "      <td>1.270940e+05</td>\n",
       "    </tr>\n",
       "    <tr>\n",
       "      <th>75%</th>\n",
       "      <td>1.888680e+05</td>\n",
       "    </tr>\n",
       "    <tr>\n",
       "      <th>max</th>\n",
       "      <td>7.990000e+06</td>\n",
       "    </tr>\n",
       "  </tbody>\n",
       "</table>\n",
       "</div>"
      ],
      "text/plain": [
       "              Price\n",
       "count  3.533000e+03\n",
       "mean   1.961142e+05\n",
       "std    4.039524e+05\n",
       "min    4.079400e+04\n",
       "25%    6.964500e+04\n",
       "50%    1.270940e+05\n",
       "75%    1.888680e+05\n",
       "max    7.990000e+06"
      ]
     },
     "execution_count": 43,
     "metadata": {},
     "output_type": "execute_result"
    }
   ],
   "source": [
    "bike.describe()"
   ]
  },
  {
   "cell_type": "code",
   "execution_count": 44,
   "id": "18588dcd",
   "metadata": {},
   "outputs": [],
   "source": [
    "bike.to_csv('D:/sudesh/bike prediction model/bikessss.csv', index=False)"
   ]
  },
  {
   "cell_type": "code",
   "execution_count": 45,
   "id": "009d2ee6",
   "metadata": {},
   "outputs": [],
   "source": [
    "x=bike.drop(columns='Price')\n",
    "y=bike['Price']"
   ]
  },
  {
   "cell_type": "code",
   "execution_count": 46,
   "id": "484f568b",
   "metadata": {},
   "outputs": [
    {
     "data": {
      "text/html": [
       "<div>\n",
       "<style scoped>\n",
       "    .dataframe tbody tr th:only-of-type {\n",
       "        vertical-align: middle;\n",
       "    }\n",
       "\n",
       "    .dataframe tbody tr th {\n",
       "        vertical-align: top;\n",
       "    }\n",
       "\n",
       "    .dataframe thead th {\n",
       "        text-align: right;\n",
       "    }\n",
       "</style>\n",
       "<table border=\"1\" class=\"dataframe\">\n",
       "  <thead>\n",
       "    <tr style=\"text-align: right;\">\n",
       "      <th></th>\n",
       "      <th>Model_Name</th>\n",
       "      <th>CC</th>\n",
       "      <th>Mileage</th>\n",
       "      <th>Weight</th>\n",
       "    </tr>\n",
       "  </thead>\n",
       "  <tbody>\n",
       "    <tr>\n",
       "      <th>0</th>\n",
       "      <td>Royal Enfield Himalayan</td>\n",
       "      <td>411.0 CC</td>\n",
       "      <td>45 Km/l</td>\n",
       "      <td>191 Kg</td>\n",
       "    </tr>\n",
       "    <tr>\n",
       "      <th>1</th>\n",
       "      <td>Royal Enfield Classic Chrome</td>\n",
       "      <td>499.0 CC</td>\n",
       "      <td>27 Km/l</td>\n",
       "      <td>194 Kg</td>\n",
       "    </tr>\n",
       "    <tr>\n",
       "      <th>2</th>\n",
       "      <td>Royal Enfield Meteor 350</td>\n",
       "      <td>349.0 CC</td>\n",
       "      <td>41.88 Km/l</td>\n",
       "      <td>183 Kg</td>\n",
       "    </tr>\n",
       "    <tr>\n",
       "      <th>3</th>\n",
       "      <td>Royal Enfield Bullet 350</td>\n",
       "      <td>346.0 CC</td>\n",
       "      <td>45 Km/l</td>\n",
       "      <td>183 Kg</td>\n",
       "    </tr>\n",
       "    <tr>\n",
       "      <th>4</th>\n",
       "      <td>Hero Splendor +</td>\n",
       "      <td>97.2 CC</td>\n",
       "      <td>70 Km/l</td>\n",
       "      <td>110 Kg</td>\n",
       "    </tr>\n",
       "    <tr>\n",
       "      <th>...</th>\n",
       "      <td>...</td>\n",
       "      <td>...</td>\n",
       "      <td>...</td>\n",
       "      <td>...</td>\n",
       "    </tr>\n",
       "    <tr>\n",
       "      <th>3528</th>\n",
       "      <td>Royal Enfield Classic 350</td>\n",
       "      <td>349.0 CC</td>\n",
       "      <td>37 Km/l</td>\n",
       "      <td>195 Kg</td>\n",
       "    </tr>\n",
       "    <tr>\n",
       "      <th>3529</th>\n",
       "      <td>Yamaha MT-15</td>\n",
       "      <td>155.0 CC</td>\n",
       "      <td>48 Km/l</td>\n",
       "      <td>138 Kg</td>\n",
       "    </tr>\n",
       "    <tr>\n",
       "      <th>3530</th>\n",
       "      <td>Honda Dio</td>\n",
       "      <td>109.5 CC</td>\n",
       "      <td>55 Km/l</td>\n",
       "      <td>103 Kg</td>\n",
       "    </tr>\n",
       "    <tr>\n",
       "      <th>3531</th>\n",
       "      <td>Honda SP 125</td>\n",
       "      <td>124.0 CC</td>\n",
       "      <td>65 Km/l</td>\n",
       "      <td>117 Kg</td>\n",
       "    </tr>\n",
       "    <tr>\n",
       "      <th>3532</th>\n",
       "      <td>Hero HF Deluxe</td>\n",
       "      <td>97.2 CC</td>\n",
       "      <td>83 Km/l</td>\n",
       "      <td>109 Kg</td>\n",
       "    </tr>\n",
       "  </tbody>\n",
       "</table>\n",
       "<p>3533 rows × 4 columns</p>\n",
       "</div>"
      ],
      "text/plain": [
       "                        Model_Name        CC     Mileage  Weight\n",
       "0          Royal Enfield Himalayan  411.0 CC     45 Km/l  191 Kg\n",
       "1     Royal Enfield Classic Chrome  499.0 CC     27 Km/l  194 Kg\n",
       "2         Royal Enfield Meteor 350  349.0 CC  41.88 Km/l  183 Kg\n",
       "3         Royal Enfield Bullet 350  346.0 CC     45 Km/l  183 Kg\n",
       "4                  Hero Splendor +   97.2 CC     70 Km/l  110 Kg\n",
       "...                            ...       ...         ...     ...\n",
       "3528     Royal Enfield Classic 350  349.0 CC     37 Km/l  195 Kg\n",
       "3529                  Yamaha MT-15  155.0 CC     48 Km/l  138 Kg\n",
       "3530                     Honda Dio  109.5 CC     55 Km/l  103 Kg\n",
       "3531                  Honda SP 125  124.0 CC     65 Km/l  117 Kg\n",
       "3532                Hero HF Deluxe   97.2 CC     83 Km/l  109 Kg\n",
       "\n",
       "[3533 rows x 4 columns]"
      ]
     },
     "execution_count": 46,
     "metadata": {},
     "output_type": "execute_result"
    }
   ],
   "source": [
    "x"
   ]
  },
  {
   "cell_type": "code",
   "execution_count": 47,
   "id": "180ce976",
   "metadata": {},
   "outputs": [
    {
     "data": {
      "text/plain": [
       "0       210784\n",
       "1       188868\n",
       "2       205844\n",
       "3       127094\n",
       "4        69380\n",
       "         ...  \n",
       "3528    184374\n",
       "3529    144900\n",
       "3530     64510\n",
       "3531     78381\n",
       "3532     48950\n",
       "Name: Price, Length: 3533, dtype: int32"
      ]
     },
     "execution_count": 47,
     "metadata": {},
     "output_type": "execute_result"
    }
   ],
   "source": [
    "y"
   ]
  },
  {
   "cell_type": "code",
   "execution_count": 48,
   "id": "fdc5ef4f",
   "metadata": {},
   "outputs": [],
   "source": [
    "from sklearn.model_selection import train_test_split\n",
    "x_train, x_test,y_train,y_test=train_test_split(x,y, test_size=0.2)"
   ]
  },
  {
   "cell_type": "code",
   "execution_count": 49,
   "id": "4552aeca",
   "metadata": {},
   "outputs": [],
   "source": [
    "from sklearn.linear_model import LinearRegression\n",
    "from sklearn.metrics import r2_score\n",
    "from sklearn.preprocessing import OneHotEncoder\n",
    "from sklearn.compose import make_column_transformer\n",
    "from sklearn.pipeline import make_pipeline"
   ]
  },
  {
   "cell_type": "code",
   "execution_count": 50,
   "id": "80a19122",
   "metadata": {
    "scrolled": true
   },
   "outputs": [
    {
     "data": {
      "text/html": [
       "<style>#sk-container-id-1 {color: black;}#sk-container-id-1 pre{padding: 0;}#sk-container-id-1 div.sk-toggleable {background-color: white;}#sk-container-id-1 label.sk-toggleable__label {cursor: pointer;display: block;width: 100%;margin-bottom: 0;padding: 0.3em;box-sizing: border-box;text-align: center;}#sk-container-id-1 label.sk-toggleable__label-arrow:before {content: \"▸\";float: left;margin-right: 0.25em;color: #696969;}#sk-container-id-1 label.sk-toggleable__label-arrow:hover:before {color: black;}#sk-container-id-1 div.sk-estimator:hover label.sk-toggleable__label-arrow:before {color: black;}#sk-container-id-1 div.sk-toggleable__content {max-height: 0;max-width: 0;overflow: hidden;text-align: left;background-color: #f0f8ff;}#sk-container-id-1 div.sk-toggleable__content pre {margin: 0.2em;color: black;border-radius: 0.25em;background-color: #f0f8ff;}#sk-container-id-1 input.sk-toggleable__control:checked~div.sk-toggleable__content {max-height: 200px;max-width: 100%;overflow: auto;}#sk-container-id-1 input.sk-toggleable__control:checked~label.sk-toggleable__label-arrow:before {content: \"▾\";}#sk-container-id-1 div.sk-estimator input.sk-toggleable__control:checked~label.sk-toggleable__label {background-color: #d4ebff;}#sk-container-id-1 div.sk-label input.sk-toggleable__control:checked~label.sk-toggleable__label {background-color: #d4ebff;}#sk-container-id-1 input.sk-hidden--visually {border: 0;clip: rect(1px 1px 1px 1px);clip: rect(1px, 1px, 1px, 1px);height: 1px;margin: -1px;overflow: hidden;padding: 0;position: absolute;width: 1px;}#sk-container-id-1 div.sk-estimator {font-family: monospace;background-color: #f0f8ff;border: 1px dotted black;border-radius: 0.25em;box-sizing: border-box;margin-bottom: 0.5em;}#sk-container-id-1 div.sk-estimator:hover {background-color: #d4ebff;}#sk-container-id-1 div.sk-parallel-item::after {content: \"\";width: 100%;border-bottom: 1px solid gray;flex-grow: 1;}#sk-container-id-1 div.sk-label:hover label.sk-toggleable__label {background-color: #d4ebff;}#sk-container-id-1 div.sk-serial::before {content: \"\";position: absolute;border-left: 1px solid gray;box-sizing: border-box;top: 0;bottom: 0;left: 50%;z-index: 0;}#sk-container-id-1 div.sk-serial {display: flex;flex-direction: column;align-items: center;background-color: white;padding-right: 0.2em;padding-left: 0.2em;position: relative;}#sk-container-id-1 div.sk-item {position: relative;z-index: 1;}#sk-container-id-1 div.sk-parallel {display: flex;align-items: stretch;justify-content: center;background-color: white;position: relative;}#sk-container-id-1 div.sk-item::before, #sk-container-id-1 div.sk-parallel-item::before {content: \"\";position: absolute;border-left: 1px solid gray;box-sizing: border-box;top: 0;bottom: 0;left: 50%;z-index: -1;}#sk-container-id-1 div.sk-parallel-item {display: flex;flex-direction: column;z-index: 1;position: relative;background-color: white;}#sk-container-id-1 div.sk-parallel-item:first-child::after {align-self: flex-end;width: 50%;}#sk-container-id-1 div.sk-parallel-item:last-child::after {align-self: flex-start;width: 50%;}#sk-container-id-1 div.sk-parallel-item:only-child::after {width: 0;}#sk-container-id-1 div.sk-dashed-wrapped {border: 1px dashed gray;margin: 0 0.4em 0.5em 0.4em;box-sizing: border-box;padding-bottom: 0.4em;background-color: white;}#sk-container-id-1 div.sk-label label {font-family: monospace;font-weight: bold;display: inline-block;line-height: 1.2em;}#sk-container-id-1 div.sk-label-container {text-align: center;}#sk-container-id-1 div.sk-container {/* jupyter's `normalize.less` sets `[hidden] { display: none; }` but bootstrap.min.css set `[hidden] { display: none !important; }` so we also need the `!important` here to be able to override the default hidden behavior on the sphinx rendered scikit-learn.org. See: https://github.com/scikit-learn/scikit-learn/issues/21755 */display: inline-block !important;position: relative;}#sk-container-id-1 div.sk-text-repr-fallback {display: none;}</style><div id=\"sk-container-id-1\" class=\"sk-top-container\"><div class=\"sk-text-repr-fallback\"><pre>OneHotEncoder()</pre><b>In a Jupyter environment, please rerun this cell to show the HTML representation or trust the notebook. <br />On GitHub, the HTML representation is unable to render, please try loading this page with nbviewer.org.</b></div><div class=\"sk-container\" hidden><div class=\"sk-item\"><div class=\"sk-estimator sk-toggleable\"><input class=\"sk-toggleable__control sk-hidden--visually\" id=\"sk-estimator-id-1\" type=\"checkbox\" checked><label for=\"sk-estimator-id-1\" class=\"sk-toggleable__label sk-toggleable__label-arrow\">OneHotEncoder</label><div class=\"sk-toggleable__content\"><pre>OneHotEncoder()</pre></div></div></div></div></div>"
      ],
      "text/plain": [
       "OneHotEncoder()"
      ]
     },
     "execution_count": 50,
     "metadata": {},
     "output_type": "execute_result"
    }
   ],
   "source": [
    "ohe = OneHotEncoder()\n",
    "ohe.fit(x[['Model_Name','CC','Mileage','Weight']])"
   ]
  },
  {
   "cell_type": "code",
   "execution_count": 51,
   "id": "f7631867",
   "metadata": {},
   "outputs": [
    {
     "data": {
      "text/plain": [
       "[array(['Aprilia RS 660', 'Aprilia RSV4', 'Aprilia SR 125',\n",
       "        'Aprilia SR 150', 'Aprilia SR 160', 'Aprilia SXR 125',\n",
       "        'Aprilia SXR 160', 'Aprilia Storm 125', 'Aprilia Tuono 660',\n",
       "        'Aprilia Tuono V4', 'Avantura Choppers Pravega',\n",
       "        'Avantura Choppers Rudra', 'BMW 750 GS', 'BMW 850 GS',\n",
       "        'BMW C 400 GT', 'BMW F900R', 'BMW F900XR', 'BMW G 310 GS',\n",
       "        'BMW G 310 R', 'BMW K 1600', 'BMW K 1600 B', 'BMW K 1600 GTL',\n",
       "        'BMW M 1000 RR', 'BMW R 1200', 'BMW R 1200 GS Adventure',\n",
       "        'BMW R 1200 R', 'BMW R 1200 RS', 'BMW R 1200 RT', 'BMW R 1250 GS',\n",
       "        'BMW R 1250 GS Adventure', 'BMW R 1250 R', 'BMW R 1250 RT',\n",
       "        'BMW R 18', 'BMW R nine T', 'BMW R nineT Scrambler',\n",
       "        'BMW S 1000 R', 'BMW S 1000 RR', 'BMW S 1000 XR',\n",
       "        'Bajaj Avenger Cruise 220', 'Bajaj Avenger Street 160',\n",
       "        'Bajaj Avenger Street 220', 'Bajaj CT 100', 'Bajaj CT 110',\n",
       "        'Bajaj Dominar 250', 'Bajaj Dominar 400 [2019]',\n",
       "        'Bajaj Platina 100', 'Bajaj Platina 110', 'Bajaj Pulsar 125',\n",
       "        'Bajaj Pulsar 150', 'Bajaj Pulsar 180', 'Bajaj Pulsar 200 NS',\n",
       "        'Bajaj Pulsar 220', 'Bajaj Pulsar F250', 'Bajaj Pulsar N250',\n",
       "        'Bajaj Pulsar NS 125', 'Bajaj Pulsar NS160', 'Bajaj Pulsar RS 200',\n",
       "        'Benelli 502C', 'Benelli BN 302R', 'Benelli Imperiale 400',\n",
       "        'Benelli Leoncino', 'Benelli Leoncino 250', 'Benelli TNT 600i',\n",
       "        'Benelli TRK 251', 'Benelli TRK 502', 'CFMoto 300NK',\n",
       "        'CFMoto 650GT', 'CFMoto 650MT', 'CFMoto 650NK',\n",
       "        'Cleveland Cyclewerks Ace Deluxe', 'Cleveland Cyclewerks Misfit',\n",
       "        'Ducati  Multistrada V2', 'Ducati 1299 Panigale',\n",
       "        'Ducati 959 Panigale', 'Ducati Diavel 1260', 'Ducati Hypermotard',\n",
       "        'Ducati Hypermotard 950', 'Ducati Hyperstrada', 'Ducati Monster',\n",
       "        'Ducati Monster 1200', 'Ducati Monster 797', 'Ducati Monster 821',\n",
       "        'Ducati Multistrada 1200', 'Ducati Multistrada 1200 Enduro',\n",
       "        'Ducati Multistrada 1260', 'Ducati Multistrada 950',\n",
       "        'Ducati Multistrada V4', 'Ducati Panigale V2',\n",
       "        'Ducati Panigale V4', 'Ducati Scrambler', 'Ducati Scrambler 1100',\n",
       "        'Ducati Scrambler Desert Sled', 'Ducati StreetFighter V4',\n",
       "        'Ducati SuperSport', 'Ducati XDiavel', 'FB Mondial HPS 300',\n",
       "        'Harley-Davidson 1200 Custom', 'Harley-Davidson CVO Limited',\n",
       "        'Harley-Davidson Fat Bob', 'Harley-Davidson Fat Boy',\n",
       "        'Harley-Davidson Forty-Eight',\n",
       "        'Harley-Davidson Heritage Softail Classic',\n",
       "        'Harley-Davidson Iron 883', 'Harley-Davidson Pan America 1250',\n",
       "        'Harley-Davidson Road Glide Special', 'Harley-Davidson Road King',\n",
       "        'Harley-Davidson Roadster', 'Harley-Davidson Softail Deluxe',\n",
       "        'Harley-Davidson Softail Low Rider', 'Harley-Davidson Sportster S',\n",
       "        'Harley-Davidson Street Bob',\n",
       "        'Harley-Davidson Street Glide Special', 'Hero Destini 125',\n",
       "        'Hero Glamour 125', 'Hero HF 100', 'Hero HF Deluxe',\n",
       "        'Hero HF Deluxe i3s', 'Hero Maestro Edge', 'Hero Maestro Edge 125',\n",
       "        'Hero Passion Pro i3S', 'Hero Pleasure + 110', 'Hero Splendor +',\n",
       "        'Hero Splendor Pro', 'Hero Splendor iSmart', 'Hero Super Splendor',\n",
       "        'Hero XPulse 200', 'Hero XPulse 200 4V', 'Hero XPulse 200T',\n",
       "        'Hero Xtreme 160R', 'Hero Xtreme 200S', 'Honda Activa 125 FI',\n",
       "        'Honda Activa 6G', 'Honda CB 350 RS', 'Honda CB 650 R',\n",
       "        'Honda CB Shine', 'Honda CB Unicorn 160', 'Honda CB1000R +',\n",
       "        'Honda CB200X', 'Honda CB300R', 'Honda CB500X', 'Honda CBR 1000RR',\n",
       "        'Honda CBR650R', 'Honda CD 110 Dream',\n",
       "        'Honda CRF1000L Africa Twin', 'Honda CRF1100L Africa Twin',\n",
       "        'Honda Dio', 'Honda Gold Wing', 'Honda Grazia',\n",
       "        'Honda H Ness CB 350', 'Honda Hornet 2.0', 'Honda Livo',\n",
       "        'Honda SP 125', 'Honda X-Blade', 'Husqvarna Svartpilen 250',\n",
       "        'Husqvarna Vitpilen 250', 'Indian Chief Bobber Dark Horse',\n",
       "        'Indian Chief Classic', 'Indian Chief Dark Horse',\n",
       "        'Indian Chief Vintage', 'Indian Chieftain',\n",
       "        'Indian Chieftain Dark Horse', 'Indian Chieftain Elite',\n",
       "        'Indian FTR 1200', 'Indian Roadmaster', 'Indian Roadmaster Elite',\n",
       "        'Indian Scout', 'Indian Scout Bobber', 'Indian Scout Sixty',\n",
       "        'Indian Springfield', 'Indian Super Chief Limited', 'JAWA 300',\n",
       "        'JAWA 42', 'JAWA Forty Two', 'JAWA Perak', 'KTM 125 Duke',\n",
       "        'KTM 200 Duke', 'KTM 250 Adventure', 'KTM 250 Duke',\n",
       "        'KTM 390 Adventure', 'KTM 390 Duke', 'KTM 790 Duke', 'KTM RC 125',\n",
       "        'KTM RC 200', 'KTM RC 390', 'Kawasaki KLX 110',\n",
       "        'Kawasaki KLX 140G', 'Kawasaki KLX 450R', 'Kawasaki KX 100',\n",
       "        'Kawasaki KX 450', 'Kawasaki KX250F', 'Kawasaki Ninja 1000',\n",
       "        'Kawasaki Ninja 300', 'Kawasaki Ninja 400', 'Kawasaki Ninja 650',\n",
       "        'Kawasaki Ninja H2', 'Kawasaki Ninja H2 SX',\n",
       "        'Kawasaki Ninja H2 SX SE', 'Kawasaki Ninja H2R',\n",
       "        'Kawasaki Ninja ZX-10R', 'Kawasaki Ninja ZX-10RR',\n",
       "        'Kawasaki Ninja ZX-14R', 'Kawasaki Ninja ZX-6R',\n",
       "        'Kawasaki Versys 1000', 'Kawasaki Versys 650',\n",
       "        'Kawasaki Versys X-300', 'Kawasaki Vulcan S',\n",
       "        'Kawasaki W800 Street', 'Kawasaki Z H2', 'Kawasaki Z1000',\n",
       "        'Kawasaki Z1000R', 'Kawasaki Z250', 'Kawasaki Z650',\n",
       "        'Kawasaki Z650RS', 'Kawasaki Z900', 'Kawasaki Z900RS',\n",
       "        'Lohia Omastar', 'MV Agusta Brutale 1090', 'MV Agusta Brutale 800',\n",
       "        'MV Agusta Brutale 800 RR', 'MV Agusta Dragster 800 RR',\n",
       "        'MV Agusta F3 800 RC', 'MV Agusta F4 RR',\n",
       "        'MV Agusta Turismo Veloce 800', 'Mahindra Mojo',\n",
       "        'Moto Guzzi Audace', 'Moto Guzzi Eldorado', 'Moto Guzzi MGX-21',\n",
       "        'Moto Guzzi V85 TT', 'Moto Guzzi V9 Bobber',\n",
       "        'Moto Guzzi V9 Roamer', 'Piaggio Vespa', 'Piaggio Vespa 150',\n",
       "        'Royal Enfield Bullet 350', 'Royal Enfield Classic 350',\n",
       "        'Royal Enfield Classic Chrome', 'Royal Enfield Continental GT 650',\n",
       "        'Royal Enfield Himalayan', 'Royal Enfield Interceptor 650',\n",
       "        'Royal Enfield Meteor 350', 'Royal Enfield Scram 411',\n",
       "        'Suzuki Avenis', 'Suzuki Burgman', 'Suzuki Gixxer',\n",
       "        'Suzuki Gixxer 250', 'Suzuki Gixxer SF', 'Suzuki Gixxer SF 250',\n",
       "        'Suzuki Hayabusa', 'Suzuki Intruder', 'Suzuki New Access 125',\n",
       "        'Suzuki V-Strom 650XT', 'Suzuki V-Strom SX 250',\n",
       "        'TVS Apache RR 310', 'TVS Apache RTR 160', 'TVS Apache RTR 160 4V',\n",
       "        'TVS Apache RTR 165 RP', 'TVS Apache RTR 180',\n",
       "        'TVS Apache RTR 200 4V', 'TVS Apache RTR 200 FI E100',\n",
       "        'TVS Jupiter', 'TVS Jupiter 125', 'TVS Ntorq 125', 'TVS Radeon',\n",
       "        'TVS Raider', 'TVS Scooty Pep +', 'TVS Scooty Zest 110',\n",
       "        'TVS Sport', 'TVS Star City +', 'TVS Victor', 'TVS XL 100',\n",
       "        'Triumph  Speed Twin', 'Triumph Bonneville Bobber',\n",
       "        'Triumph Bonneville T100', 'Triumph Bonneville T120',\n",
       "        'Triumph Rocket 3', 'Triumph Scrambler 1200',\n",
       "        'Triumph Speed Triple 1200 RS', 'Triumph Speedmaster',\n",
       "        'Triumph Street Scrambler', 'Triumph Street Triple',\n",
       "        'Triumph Street Twin', 'Triumph Thruxton R', 'Triumph Tiger 1200',\n",
       "        'Triumph Tiger 850 Sport', 'Triumph Tiger 900',\n",
       "        'Triumph Tiger Sport 660', 'Triumph Trident 660',\n",
       "        'Yamaha Aerox 155', 'Yamaha FZ 25', 'Yamaha FZ S V3.0 FI',\n",
       "        'Yamaha FZ V3.0 FI', 'Yamaha FZ-X', 'Yamaha FZS 25',\n",
       "        'Yamaha Fascino 125', 'Yamaha Fazer 25', 'Yamaha MT-09',\n",
       "        'Yamaha MT-15', 'Yamaha MT-15 V2.0', 'Yamaha R15 V3.0',\n",
       "        'Yamaha R15S V3.0', 'Yamaha Ray-ZR 125FI', 'Yamaha YZF R1',\n",
       "        'Yamaha YZF R15 V4.0', 'Yezdi Adventure', 'Yezdi Roadster',\n",
       "        'Yezdi Scrambler'], dtype=object),\n",
       " array(['102.0 CC', '1043.0 CC', '1077.0 CC', '1078.0 CC', '1079.0 CC',\n",
       "        '1084.0 CC', '109.5 CC', '109.7 CC', '1099.0 CC', '110.9 CC',\n",
       "        '1103.0 CC', '112.0 CC', '113.2 CC', '1131.0 CC', '1133.0 CC',\n",
       "        '115.0 CC', '1158.0 CC', '1160.0 CC', '1170.0 CC', '1197.0 CC',\n",
       "        '1198.0 CC', '1198.4 CC', '1200.0 CC', '1202.0 CC', '1203.0 CC',\n",
       "        '124.0 CC', '124.3 CC', '124.4 CC', '124.5 CC', '124.6 CC',\n",
       "        '124.7 CC', '124.8 CC', '125.0 CC', '1252.0 CC', '1254.0 CC',\n",
       "        '1262.0 CC', '1285.0 CC', '1340.0 CC', '1380.0 CC', '144.0 CC',\n",
       "        '1441.0 CC', '149.0 CC', '149.5 CC', '154.8 CC', '154.9 CC',\n",
       "        '155.0 CC', '159.7 CC', '160.0 CC', '160.3 CC', '162.7 CC',\n",
       "        '163.0 CC', '164.9 CC', '1649.0 CC', '1745.0 CC', '177.4 CC',\n",
       "        '178.6 CC', '1802.0 CC', '1811.0 CC', '1833.0 CC', '184.4 CC',\n",
       "        '1868.0 CC', '1890.0 CC', '1923.0 CC', '197.8 CC', '199.5 CC',\n",
       "        '199.6 CC', '2025.7 CC', '220.0 CC', '229.0 CC', '2458.0 CC',\n",
       "        '248.0 CC', '248.8 CC', '249.0 CC', '249.1 CC', '286.0 CC',\n",
       "        '292.4 CC', '293.0 CC', '295.0 CC', '296.0 CC', '300.0 CC',\n",
       "        '312.2 CC', '313.0 CC', '334.0 CC', '346.0 CC', '348.4 CC',\n",
       "        '349.0 CC', '350.0 CC', '373.0 CC', '373.2 CC', '373.3 CC',\n",
       "        '374.0 CC', '399.0 CC', '411.0 CC', '449.0 CC', '471.0 CC',\n",
       "        '48.0 CC', '499.0 CC', '500.0 CC', '600.0 CC', '636.0 CC',\n",
       "        '645.0 CC', '648.0 CC', '648.7 CC', '649.0 CC', '649.3 CC',\n",
       "        '659.0 CC', '660.0 CC', '765.0 CC', '773.0 CC', '798.0 CC',\n",
       "        '799.0 CC', '803.0 CC', '821.0 CC', '847.0 CC', '850.0 CC',\n",
       "        '853.0 CC', '87.8 CC', '883.0 CC', '888.0 CC', '895.0 CC',\n",
       "        '900.0 CC', '937.0 CC', '948.0 CC', '955.0 CC', '97.2 CC',\n",
       "        '99.0 CC', '99.7 CC', '998.0 CC', '999.0 CC', '999.1 CC'],\n",
       "       dtype=object),\n",
       " array(['104 Km/l', '11 Km/l', '11.8 Km/l', '12 Km/l', '13 - 14.66 Km/l',\n",
       "        '13 - 18.51 Km/l', '13 Km/l', '14 Km/l', '14.5 Km/l', '14.9 Km/l',\n",
       "        '15 Km/l', '16 Km/l', '17 - 24 Km/l', '17 Km/l', '17.8 Km/l',\n",
       "        '18 - 24 Km/l', '18 Km/l', '18.5 Km/l', '18.8 Km/l', '18.86 Km/l',\n",
       "        '19 Km/l', '19.1 Km/l', '19.2 Km/l', '20 Km/l', '20.4 - 20.8 Km/l',\n",
       "        '20.4 Km/l', '20.8 Km/l', '21 Km/l', '22 Km/l', '22.72 Km/l',\n",
       "        '23 Km/l', '23.25 Km/l', '23.59 Km/l', '24 Km/l', '24.39 Km/l',\n",
       "        '25 Km/l', '25.5 Km/l', '26 Km/l', '26.3 Km/l', '27 Km/l',\n",
       "        '28.6 Km/l', '30 Km/l', '30.2 Km/l', '30.97 Km/l', '31.25 Km/l',\n",
       "        '32 Km/l', '33 Km/l', '33.98 Km/l', '34.5 Km/l', '35 Km/l',\n",
       "        '36.9 Km/l', '37 Km/l', '37.5 Km/l', '38 Km/l', '38.5 Km/l',\n",
       "        '40 Km/l', '41.3 Km/l', '41.88 Km/l', '42 Km/l', '43 Km/l',\n",
       "        '44 Km/l', '45 Km/l', '47 Km/l', '48 Km/l', '49 Km/l', '50 Km/l',\n",
       "        '53.5 Km/l', '54 Km/l', '55 Km/l', '60 Km/Full Charge', '60 Km/l',\n",
       "        '62 Km/l', '64 Km/l', '65 Km/l', '66 Km/l', '67 Km/l', '69 Km/l',\n",
       "        '70 Km/l', '72 - 76 Km/l', '74 Km/l', '75 Km/l', '76.4 Km/l',\n",
       "        '8 Km/l', '80 Km/l', '83 Km/l', '84 Km/l', '86 Km/l', '88.5 Km/l',\n",
       "        '89.5 Km/l', '9 Km/l', '96.9 Km/l', nan], dtype=object),\n",
       " array(['103 Kg', '104 Kg', '106 Kg', '107 Kg', '108 Kg', '109 Kg',\n",
       "        '110 Kg', '111 Kg', '112 Kg', '113 Kg', '114 Kg', '115 Kg',\n",
       "        '116 Kg', '117 Kg', '118 Kg', '122 Kg', '123 Kg', '126 Kg',\n",
       "        '129 Kg', '133 Kg', '134 Kg', '135 Kg', '137 Kg', '138 Kg',\n",
       "        '139 Kg', '140 Kg', '142 Kg', '143 Kg', '144 Kg', '145 Kg',\n",
       "        '146 Kg', '147 Kg', '148 Kg', '149 Kg', '150 Kg', '151 Kg',\n",
       "        '152 Kg', '153 Kg', '154 Kg', '155 Kg', '156 Kg', '157 Kg',\n",
       "        '158 Kg', '159 Kg', '161 Kg', '162 Kg', '164 Kg', '165 Kg',\n",
       "        '166 Kg', '167 Kg', '168 Kg', '169 Kg', '170 Kg', '173 Kg',\n",
       "        '175 Kg', '176 Kg', '177 Kg', '179 Kg', '180 Kg', '181 Kg',\n",
       "        '182 Kg', '183 Kg', '184 Kg', '185 Kg', '186 Kg', '188 Kg',\n",
       "        '189 Kg', '190 Kg', '191 Kg', '192 Kg', '193 Kg', '194 Kg',\n",
       "        '195 Kg', '196 Kg', '197 Kg', '198 Kg', '199 Kg', '200 Kg',\n",
       "        '202 Kg', '203 Kg', '204 Kg', '205 Kg', '206 Kg', '208 Kg',\n",
       "        '209 Kg', '210 Kg', '211 Kg', '213 Kg', '215 Kg', '216 Kg',\n",
       "        '217 Kg', '218 Kg', '219 Kg', '220 Kg', '221 Kg', '223 Kg',\n",
       "        '224 Kg', '225 Kg', '226 Kg', '228 Kg', '229 Kg', '230 Kg',\n",
       "        '231 Kg', '232 Kg', '235 Kg', '236 Kg', '238 Kg', '239 Kg',\n",
       "        '242 Kg', '243 Kg', '244 Kg', '245 Kg', '247 Kg', '249 Kg',\n",
       "        '250 Kg', '251 Kg', '252 Kg', '254 Kg', '255 Kg', '256 Kg',\n",
       "        '260 Kg', '263 Kg', '266 Kg', '268 Kg', '269 Kg', '276 Kg',\n",
       "        '279 Kg', '286 Kg', '291 Kg', '296 Kg', '299 Kg', '300 Kg',\n",
       "        '304 Kg', '314 Kg', '315 Kg', '316 Kg', '324 Kg', '332 Kg',\n",
       "        '341 Kg', '344 Kg', '345 Kg', '347 Kg', '350 Kg', '357 Kg',\n",
       "        '361 Kg', '362 Kg', '372 Kg', '377 Kg', '379 Kg', '388 Kg',\n",
       "        '389 Kg', '390 Kg', '391 Kg', '411 Kg', '421 Kg', '433 Kg',\n",
       "        '66 Kg', '76 Kg', '77 Kg', '88 Kg', '95 Kg', '97 Kg', '99 Kg'],\n",
       "       dtype=object)]"
      ]
     },
     "execution_count": 51,
     "metadata": {},
     "output_type": "execute_result"
    }
   ],
   "source": [
    "ohe.categories_"
   ]
  },
  {
   "cell_type": "code",
   "execution_count": 52,
   "id": "3db3979e",
   "metadata": {},
   "outputs": [],
   "source": [
    "column_trans = make_column_transformer((OneHotEncoder(categories=ohe.categories_),['Model_Name','CC','Mileage','Weight']),\n",
    "                                      remainder='passthrough')"
   ]
  },
  {
   "cell_type": "code",
   "execution_count": null,
   "id": "0487a722",
   "metadata": {},
   "outputs": [],
   "source": []
  },
  {
   "cell_type": "code",
   "execution_count": 53,
   "id": "749f1763",
   "metadata": {},
   "outputs": [],
   "source": [
    "lr=LinearRegression()"
   ]
  },
  {
   "cell_type": "code",
   "execution_count": 54,
   "id": "32e9424c",
   "metadata": {},
   "outputs": [],
   "source": [
    "pipe=make_pipeline(column_trans,lr)"
   ]
  },
  {
   "cell_type": "code",
   "execution_count": null,
   "id": "3aceaae7",
   "metadata": {},
   "outputs": [],
   "source": []
  },
  {
   "cell_type": "code",
   "execution_count": 55,
   "id": "09bc38d9",
   "metadata": {},
   "outputs": [
    {
     "data": {
      "text/html": [
       "<style>#sk-container-id-2 {color: black;}#sk-container-id-2 pre{padding: 0;}#sk-container-id-2 div.sk-toggleable {background-color: white;}#sk-container-id-2 label.sk-toggleable__label {cursor: pointer;display: block;width: 100%;margin-bottom: 0;padding: 0.3em;box-sizing: border-box;text-align: center;}#sk-container-id-2 label.sk-toggleable__label-arrow:before {content: \"▸\";float: left;margin-right: 0.25em;color: #696969;}#sk-container-id-2 label.sk-toggleable__label-arrow:hover:before {color: black;}#sk-container-id-2 div.sk-estimator:hover label.sk-toggleable__label-arrow:before {color: black;}#sk-container-id-2 div.sk-toggleable__content {max-height: 0;max-width: 0;overflow: hidden;text-align: left;background-color: #f0f8ff;}#sk-container-id-2 div.sk-toggleable__content pre {margin: 0.2em;color: black;border-radius: 0.25em;background-color: #f0f8ff;}#sk-container-id-2 input.sk-toggleable__control:checked~div.sk-toggleable__content {max-height: 200px;max-width: 100%;overflow: auto;}#sk-container-id-2 input.sk-toggleable__control:checked~label.sk-toggleable__label-arrow:before {content: \"▾\";}#sk-container-id-2 div.sk-estimator input.sk-toggleable__control:checked~label.sk-toggleable__label {background-color: #d4ebff;}#sk-container-id-2 div.sk-label input.sk-toggleable__control:checked~label.sk-toggleable__label {background-color: #d4ebff;}#sk-container-id-2 input.sk-hidden--visually {border: 0;clip: rect(1px 1px 1px 1px);clip: rect(1px, 1px, 1px, 1px);height: 1px;margin: -1px;overflow: hidden;padding: 0;position: absolute;width: 1px;}#sk-container-id-2 div.sk-estimator {font-family: monospace;background-color: #f0f8ff;border: 1px dotted black;border-radius: 0.25em;box-sizing: border-box;margin-bottom: 0.5em;}#sk-container-id-2 div.sk-estimator:hover {background-color: #d4ebff;}#sk-container-id-2 div.sk-parallel-item::after {content: \"\";width: 100%;border-bottom: 1px solid gray;flex-grow: 1;}#sk-container-id-2 div.sk-label:hover label.sk-toggleable__label {background-color: #d4ebff;}#sk-container-id-2 div.sk-serial::before {content: \"\";position: absolute;border-left: 1px solid gray;box-sizing: border-box;top: 0;bottom: 0;left: 50%;z-index: 0;}#sk-container-id-2 div.sk-serial {display: flex;flex-direction: column;align-items: center;background-color: white;padding-right: 0.2em;padding-left: 0.2em;position: relative;}#sk-container-id-2 div.sk-item {position: relative;z-index: 1;}#sk-container-id-2 div.sk-parallel {display: flex;align-items: stretch;justify-content: center;background-color: white;position: relative;}#sk-container-id-2 div.sk-item::before, #sk-container-id-2 div.sk-parallel-item::before {content: \"\";position: absolute;border-left: 1px solid gray;box-sizing: border-box;top: 0;bottom: 0;left: 50%;z-index: -1;}#sk-container-id-2 div.sk-parallel-item {display: flex;flex-direction: column;z-index: 1;position: relative;background-color: white;}#sk-container-id-2 div.sk-parallel-item:first-child::after {align-self: flex-end;width: 50%;}#sk-container-id-2 div.sk-parallel-item:last-child::after {align-self: flex-start;width: 50%;}#sk-container-id-2 div.sk-parallel-item:only-child::after {width: 0;}#sk-container-id-2 div.sk-dashed-wrapped {border: 1px dashed gray;margin: 0 0.4em 0.5em 0.4em;box-sizing: border-box;padding-bottom: 0.4em;background-color: white;}#sk-container-id-2 div.sk-label label {font-family: monospace;font-weight: bold;display: inline-block;line-height: 1.2em;}#sk-container-id-2 div.sk-label-container {text-align: center;}#sk-container-id-2 div.sk-container {/* jupyter's `normalize.less` sets `[hidden] { display: none; }` but bootstrap.min.css set `[hidden] { display: none !important; }` so we also need the `!important` here to be able to override the default hidden behavior on the sphinx rendered scikit-learn.org. See: https://github.com/scikit-learn/scikit-learn/issues/21755 */display: inline-block !important;position: relative;}#sk-container-id-2 div.sk-text-repr-fallback {display: none;}</style><div id=\"sk-container-id-2\" class=\"sk-top-container\"><div class=\"sk-text-repr-fallback\"><pre>Pipeline(steps=[(&#x27;columntransformer&#x27;,\n",
       "                 ColumnTransformer(remainder=&#x27;passthrough&#x27;,\n",
       "                                   transformers=[(&#x27;onehotencoder&#x27;,\n",
       "                                                  OneHotEncoder(categories=[array([&#x27;Aprilia RS 660&#x27;, &#x27;Aprilia RSV4&#x27;, &#x27;Aprilia SR 125&#x27;,\n",
       "       &#x27;Aprilia SR 150&#x27;, &#x27;Aprilia SR 160&#x27;, &#x27;Aprilia SXR 125&#x27;,\n",
       "       &#x27;Aprilia SXR 160&#x27;, &#x27;Aprilia Storm 125&#x27;, &#x27;Aprilia Tuono 660&#x27;,\n",
       "       &#x27;Aprilia Tuono V4&#x27;, &#x27;Avantura Choppers Pravega&#x27;,\n",
       "       &#x27;Avantura Choppers Rudra...\n",
       "       &#x27;279 Kg&#x27;, &#x27;286 Kg&#x27;, &#x27;291 Kg&#x27;, &#x27;296 Kg&#x27;, &#x27;299 Kg&#x27;, &#x27;300 Kg&#x27;,\n",
       "       &#x27;304 Kg&#x27;, &#x27;314 Kg&#x27;, &#x27;315 Kg&#x27;, &#x27;316 Kg&#x27;, &#x27;324 Kg&#x27;, &#x27;332 Kg&#x27;,\n",
       "       &#x27;341 Kg&#x27;, &#x27;344 Kg&#x27;, &#x27;345 Kg&#x27;, &#x27;347 Kg&#x27;, &#x27;350 Kg&#x27;, &#x27;357 Kg&#x27;,\n",
       "       &#x27;361 Kg&#x27;, &#x27;362 Kg&#x27;, &#x27;372 Kg&#x27;, &#x27;377 Kg&#x27;, &#x27;379 Kg&#x27;, &#x27;388 Kg&#x27;,\n",
       "       &#x27;389 Kg&#x27;, &#x27;390 Kg&#x27;, &#x27;391 Kg&#x27;, &#x27;411 Kg&#x27;, &#x27;421 Kg&#x27;, &#x27;433 Kg&#x27;,\n",
       "       &#x27;66 Kg&#x27;, &#x27;76 Kg&#x27;, &#x27;77 Kg&#x27;, &#x27;88 Kg&#x27;, &#x27;95 Kg&#x27;, &#x27;97 Kg&#x27;, &#x27;99 Kg&#x27;],\n",
       "      dtype=object)]),\n",
       "                                                  [&#x27;Model_Name&#x27;, &#x27;CC&#x27;,\n",
       "                                                   &#x27;Mileage&#x27;, &#x27;Weight&#x27;])])),\n",
       "                (&#x27;linearregression&#x27;, LinearRegression())])</pre><b>In a Jupyter environment, please rerun this cell to show the HTML representation or trust the notebook. <br />On GitHub, the HTML representation is unable to render, please try loading this page with nbviewer.org.</b></div><div class=\"sk-container\" hidden><div class=\"sk-item sk-dashed-wrapped\"><div class=\"sk-label-container\"><div class=\"sk-label sk-toggleable\"><input class=\"sk-toggleable__control sk-hidden--visually\" id=\"sk-estimator-id-2\" type=\"checkbox\" ><label for=\"sk-estimator-id-2\" class=\"sk-toggleable__label sk-toggleable__label-arrow\">Pipeline</label><div class=\"sk-toggleable__content\"><pre>Pipeline(steps=[(&#x27;columntransformer&#x27;,\n",
       "                 ColumnTransformer(remainder=&#x27;passthrough&#x27;,\n",
       "                                   transformers=[(&#x27;onehotencoder&#x27;,\n",
       "                                                  OneHotEncoder(categories=[array([&#x27;Aprilia RS 660&#x27;, &#x27;Aprilia RSV4&#x27;, &#x27;Aprilia SR 125&#x27;,\n",
       "       &#x27;Aprilia SR 150&#x27;, &#x27;Aprilia SR 160&#x27;, &#x27;Aprilia SXR 125&#x27;,\n",
       "       &#x27;Aprilia SXR 160&#x27;, &#x27;Aprilia Storm 125&#x27;, &#x27;Aprilia Tuono 660&#x27;,\n",
       "       &#x27;Aprilia Tuono V4&#x27;, &#x27;Avantura Choppers Pravega&#x27;,\n",
       "       &#x27;Avantura Choppers Rudra...\n",
       "       &#x27;279 Kg&#x27;, &#x27;286 Kg&#x27;, &#x27;291 Kg&#x27;, &#x27;296 Kg&#x27;, &#x27;299 Kg&#x27;, &#x27;300 Kg&#x27;,\n",
       "       &#x27;304 Kg&#x27;, &#x27;314 Kg&#x27;, &#x27;315 Kg&#x27;, &#x27;316 Kg&#x27;, &#x27;324 Kg&#x27;, &#x27;332 Kg&#x27;,\n",
       "       &#x27;341 Kg&#x27;, &#x27;344 Kg&#x27;, &#x27;345 Kg&#x27;, &#x27;347 Kg&#x27;, &#x27;350 Kg&#x27;, &#x27;357 Kg&#x27;,\n",
       "       &#x27;361 Kg&#x27;, &#x27;362 Kg&#x27;, &#x27;372 Kg&#x27;, &#x27;377 Kg&#x27;, &#x27;379 Kg&#x27;, &#x27;388 Kg&#x27;,\n",
       "       &#x27;389 Kg&#x27;, &#x27;390 Kg&#x27;, &#x27;391 Kg&#x27;, &#x27;411 Kg&#x27;, &#x27;421 Kg&#x27;, &#x27;433 Kg&#x27;,\n",
       "       &#x27;66 Kg&#x27;, &#x27;76 Kg&#x27;, &#x27;77 Kg&#x27;, &#x27;88 Kg&#x27;, &#x27;95 Kg&#x27;, &#x27;97 Kg&#x27;, &#x27;99 Kg&#x27;],\n",
       "      dtype=object)]),\n",
       "                                                  [&#x27;Model_Name&#x27;, &#x27;CC&#x27;,\n",
       "                                                   &#x27;Mileage&#x27;, &#x27;Weight&#x27;])])),\n",
       "                (&#x27;linearregression&#x27;, LinearRegression())])</pre></div></div></div><div class=\"sk-serial\"><div class=\"sk-item sk-dashed-wrapped\"><div class=\"sk-label-container\"><div class=\"sk-label sk-toggleable\"><input class=\"sk-toggleable__control sk-hidden--visually\" id=\"sk-estimator-id-3\" type=\"checkbox\" ><label for=\"sk-estimator-id-3\" class=\"sk-toggleable__label sk-toggleable__label-arrow\">columntransformer: ColumnTransformer</label><div class=\"sk-toggleable__content\"><pre>ColumnTransformer(remainder=&#x27;passthrough&#x27;,\n",
       "                  transformers=[(&#x27;onehotencoder&#x27;,\n",
       "                                 OneHotEncoder(categories=[array([&#x27;Aprilia RS 660&#x27;, &#x27;Aprilia RSV4&#x27;, &#x27;Aprilia SR 125&#x27;,\n",
       "       &#x27;Aprilia SR 150&#x27;, &#x27;Aprilia SR 160&#x27;, &#x27;Aprilia SXR 125&#x27;,\n",
       "       &#x27;Aprilia SXR 160&#x27;, &#x27;Aprilia Storm 125&#x27;, &#x27;Aprilia Tuono 660&#x27;,\n",
       "       &#x27;Aprilia Tuono V4&#x27;, &#x27;Avantura Choppers Pravega&#x27;,\n",
       "       &#x27;Avantura Choppers Rudra&#x27;, &#x27;BMW 750 GS&#x27;, &#x27;BMW 850 GS&#x27;,\n",
       "       &#x27;BMW C 400 GT&#x27;, &#x27;...\n",
       "       &#x27;260 Kg&#x27;, &#x27;263 Kg&#x27;, &#x27;266 Kg&#x27;, &#x27;268 Kg&#x27;, &#x27;269 Kg&#x27;, &#x27;276 Kg&#x27;,\n",
       "       &#x27;279 Kg&#x27;, &#x27;286 Kg&#x27;, &#x27;291 Kg&#x27;, &#x27;296 Kg&#x27;, &#x27;299 Kg&#x27;, &#x27;300 Kg&#x27;,\n",
       "       &#x27;304 Kg&#x27;, &#x27;314 Kg&#x27;, &#x27;315 Kg&#x27;, &#x27;316 Kg&#x27;, &#x27;324 Kg&#x27;, &#x27;332 Kg&#x27;,\n",
       "       &#x27;341 Kg&#x27;, &#x27;344 Kg&#x27;, &#x27;345 Kg&#x27;, &#x27;347 Kg&#x27;, &#x27;350 Kg&#x27;, &#x27;357 Kg&#x27;,\n",
       "       &#x27;361 Kg&#x27;, &#x27;362 Kg&#x27;, &#x27;372 Kg&#x27;, &#x27;377 Kg&#x27;, &#x27;379 Kg&#x27;, &#x27;388 Kg&#x27;,\n",
       "       &#x27;389 Kg&#x27;, &#x27;390 Kg&#x27;, &#x27;391 Kg&#x27;, &#x27;411 Kg&#x27;, &#x27;421 Kg&#x27;, &#x27;433 Kg&#x27;,\n",
       "       &#x27;66 Kg&#x27;, &#x27;76 Kg&#x27;, &#x27;77 Kg&#x27;, &#x27;88 Kg&#x27;, &#x27;95 Kg&#x27;, &#x27;97 Kg&#x27;, &#x27;99 Kg&#x27;],\n",
       "      dtype=object)]),\n",
       "                                 [&#x27;Model_Name&#x27;, &#x27;CC&#x27;, &#x27;Mileage&#x27;, &#x27;Weight&#x27;])])</pre></div></div></div><div class=\"sk-parallel\"><div class=\"sk-parallel-item\"><div class=\"sk-item\"><div class=\"sk-label-container\"><div class=\"sk-label sk-toggleable\"><input class=\"sk-toggleable__control sk-hidden--visually\" id=\"sk-estimator-id-4\" type=\"checkbox\" ><label for=\"sk-estimator-id-4\" class=\"sk-toggleable__label sk-toggleable__label-arrow\">onehotencoder</label><div class=\"sk-toggleable__content\"><pre>[&#x27;Model_Name&#x27;, &#x27;CC&#x27;, &#x27;Mileage&#x27;, &#x27;Weight&#x27;]</pre></div></div></div><div class=\"sk-serial\"><div class=\"sk-item\"><div class=\"sk-estimator sk-toggleable\"><input class=\"sk-toggleable__control sk-hidden--visually\" id=\"sk-estimator-id-5\" type=\"checkbox\" ><label for=\"sk-estimator-id-5\" class=\"sk-toggleable__label sk-toggleable__label-arrow\">OneHotEncoder</label><div class=\"sk-toggleable__content\"><pre>OneHotEncoder(categories=[array([&#x27;Aprilia RS 660&#x27;, &#x27;Aprilia RSV4&#x27;, &#x27;Aprilia SR 125&#x27;,\n",
       "       &#x27;Aprilia SR 150&#x27;, &#x27;Aprilia SR 160&#x27;, &#x27;Aprilia SXR 125&#x27;,\n",
       "       &#x27;Aprilia SXR 160&#x27;, &#x27;Aprilia Storm 125&#x27;, &#x27;Aprilia Tuono 660&#x27;,\n",
       "       &#x27;Aprilia Tuono V4&#x27;, &#x27;Avantura Choppers Pravega&#x27;,\n",
       "       &#x27;Avantura Choppers Rudra&#x27;, &#x27;BMW 750 GS&#x27;, &#x27;BMW 850 GS&#x27;,\n",
       "       &#x27;BMW C 400 GT&#x27;, &#x27;BMW F900R&#x27;, &#x27;BMW F900XR&#x27;, &#x27;BMW G 310 GS&#x27;,\n",
       "       &#x27;BMW G 310 R&#x27;, &#x27;BMW K 1600&#x27;, &#x27;BMW K 1600 B&#x27;, &#x27;BMW K...\n",
       "       &#x27;260 Kg&#x27;, &#x27;263 Kg&#x27;, &#x27;266 Kg&#x27;, &#x27;268 Kg&#x27;, &#x27;269 Kg&#x27;, &#x27;276 Kg&#x27;,\n",
       "       &#x27;279 Kg&#x27;, &#x27;286 Kg&#x27;, &#x27;291 Kg&#x27;, &#x27;296 Kg&#x27;, &#x27;299 Kg&#x27;, &#x27;300 Kg&#x27;,\n",
       "       &#x27;304 Kg&#x27;, &#x27;314 Kg&#x27;, &#x27;315 Kg&#x27;, &#x27;316 Kg&#x27;, &#x27;324 Kg&#x27;, &#x27;332 Kg&#x27;,\n",
       "       &#x27;341 Kg&#x27;, &#x27;344 Kg&#x27;, &#x27;345 Kg&#x27;, &#x27;347 Kg&#x27;, &#x27;350 Kg&#x27;, &#x27;357 Kg&#x27;,\n",
       "       &#x27;361 Kg&#x27;, &#x27;362 Kg&#x27;, &#x27;372 Kg&#x27;, &#x27;377 Kg&#x27;, &#x27;379 Kg&#x27;, &#x27;388 Kg&#x27;,\n",
       "       &#x27;389 Kg&#x27;, &#x27;390 Kg&#x27;, &#x27;391 Kg&#x27;, &#x27;411 Kg&#x27;, &#x27;421 Kg&#x27;, &#x27;433 Kg&#x27;,\n",
       "       &#x27;66 Kg&#x27;, &#x27;76 Kg&#x27;, &#x27;77 Kg&#x27;, &#x27;88 Kg&#x27;, &#x27;95 Kg&#x27;, &#x27;97 Kg&#x27;, &#x27;99 Kg&#x27;],\n",
       "      dtype=object)])</pre></div></div></div></div></div></div><div class=\"sk-parallel-item\"><div class=\"sk-item\"><div class=\"sk-label-container\"><div class=\"sk-label sk-toggleable\"><input class=\"sk-toggleable__control sk-hidden--visually\" id=\"sk-estimator-id-6\" type=\"checkbox\" ><label for=\"sk-estimator-id-6\" class=\"sk-toggleable__label sk-toggleable__label-arrow\">remainder</label><div class=\"sk-toggleable__content\"><pre>[]</pre></div></div></div><div class=\"sk-serial\"><div class=\"sk-item\"><div class=\"sk-estimator sk-toggleable\"><input class=\"sk-toggleable__control sk-hidden--visually\" id=\"sk-estimator-id-7\" type=\"checkbox\" ><label for=\"sk-estimator-id-7\" class=\"sk-toggleable__label sk-toggleable__label-arrow\">passthrough</label><div class=\"sk-toggleable__content\"><pre>passthrough</pre></div></div></div></div></div></div></div></div><div class=\"sk-item\"><div class=\"sk-estimator sk-toggleable\"><input class=\"sk-toggleable__control sk-hidden--visually\" id=\"sk-estimator-id-8\" type=\"checkbox\" ><label for=\"sk-estimator-id-8\" class=\"sk-toggleable__label sk-toggleable__label-arrow\">LinearRegression</label><div class=\"sk-toggleable__content\"><pre>LinearRegression()</pre></div></div></div></div></div></div></div>"
      ],
      "text/plain": [
       "Pipeline(steps=[('columntransformer',\n",
       "                 ColumnTransformer(remainder='passthrough',\n",
       "                                   transformers=[('onehotencoder',\n",
       "                                                  OneHotEncoder(categories=[array(['Aprilia RS 660', 'Aprilia RSV4', 'Aprilia SR 125',\n",
       "       'Aprilia SR 150', 'Aprilia SR 160', 'Aprilia SXR 125',\n",
       "       'Aprilia SXR 160', 'Aprilia Storm 125', 'Aprilia Tuono 660',\n",
       "       'Aprilia Tuono V4', 'Avantura Choppers Pravega',\n",
       "       'Avantura Choppers Rudra...\n",
       "       '279 Kg', '286 Kg', '291 Kg', '296 Kg', '299 Kg', '300 Kg',\n",
       "       '304 Kg', '314 Kg', '315 Kg', '316 Kg', '324 Kg', '332 Kg',\n",
       "       '341 Kg', '344 Kg', '345 Kg', '347 Kg', '350 Kg', '357 Kg',\n",
       "       '361 Kg', '362 Kg', '372 Kg', '377 Kg', '379 Kg', '388 Kg',\n",
       "       '389 Kg', '390 Kg', '391 Kg', '411 Kg', '421 Kg', '433 Kg',\n",
       "       '66 Kg', '76 Kg', '77 Kg', '88 Kg', '95 Kg', '97 Kg', '99 Kg'],\n",
       "      dtype=object)]),\n",
       "                                                  ['Model_Name', 'CC',\n",
       "                                                   'Mileage', 'Weight'])])),\n",
       "                ('linearregression', LinearRegression())])"
      ]
     },
     "execution_count": 55,
     "metadata": {},
     "output_type": "execute_result"
    }
   ],
   "source": [
    "pipe.fit(x_train,y_train)"
   ]
  },
  {
   "cell_type": "code",
   "execution_count": 56,
   "id": "c155abf2",
   "metadata": {},
   "outputs": [],
   "source": [
    "y_pred= pipe.predict(x_test)"
   ]
  },
  {
   "cell_type": "code",
   "execution_count": 57,
   "id": "b96a3688",
   "metadata": {},
   "outputs": [
    {
     "data": {
      "text/plain": [
       "0.8064703264938534"
      ]
     },
     "execution_count": 57,
     "metadata": {},
     "output_type": "execute_result"
    }
   ],
   "source": [
    "r2_score(y_test,y_pred)"
   ]
  },
  {
   "cell_type": "code",
   "execution_count": 58,
   "id": "8421fd61",
   "metadata": {},
   "outputs": [],
   "source": [
    "scores=[]\n",
    "for i in range(1000):\n",
    "    x_train,x_test,y_train,y_test=train_test_split(x,y,test_size=0.2,random_state=i)\n",
    "    lr=LinearRegression()\n",
    "    pipe=make_pipeline(column_trans,lr)\n",
    "    pipe.fit(x_train,y_train)\n",
    "    y_pred=pipe.predict(x_test)\n",
    "    scores.append(r2_score(y_test,y_pred))"
   ]
  },
  {
   "cell_type": "code",
   "execution_count": 59,
   "id": "b13894a3",
   "metadata": {},
   "outputs": [],
   "source": [
    "scores=[]\n",
    "for i in range(1000):\n",
    "    x_train,x_test,y_train,y_test=train_test_split(x,y,test_size=0.2,random_state=i)\n",
    "    lr=LinearRegression()\n",
    "    pipe=make_pipeline(column_trans,lr)\n",
    "    pipe.fit(x_train,y_train)\n",
    "    y_pred=pipe.predict(x_test)\n",
    "    scores.append(r2_score(y_test,y_pred))"
   ]
  },
  {
   "cell_type": "code",
   "execution_count": 60,
   "id": "f44a33d9",
   "metadata": {},
   "outputs": [
    {
     "data": {
      "text/plain": [
       "355"
      ]
     },
     "execution_count": 60,
     "metadata": {},
     "output_type": "execute_result"
    }
   ],
   "source": [
    "np.argmax(scores)"
   ]
  },
  {
   "cell_type": "code",
   "execution_count": 61,
   "id": "3efa3a5d",
   "metadata": {},
   "outputs": [
    {
     "data": {
      "text/plain": [
       "0.9089961292973775"
      ]
     },
     "execution_count": 61,
     "metadata": {},
     "output_type": "execute_result"
    }
   ],
   "source": [
    " x_train,x_test,y_train,y_test=train_test_split(x,y,test_size=0.2,random_state=np.argmax(scores))\n",
    "lr=LinearRegression()\n",
    "pipe=make_pipeline(column_trans,lr)\n",
    "pipe.fit(x_train,y_train)\n",
    "y_pred=pipe.predict(x_test)\n",
    "r2_score(y_test,y_pred)"
   ]
  },
  {
   "cell_type": "code",
   "execution_count": 62,
   "id": "7de4354f",
   "metadata": {},
   "outputs": [],
   "source": [
    "import pickle"
   ]
  },
  {
   "cell_type": "code",
   "execution_count": null,
   "id": "6e9446d1",
   "metadata": {},
   "outputs": [],
   "source": []
  },
  {
   "cell_type": "code",
   "execution_count": 63,
   "id": "46fc93ad",
   "metadata": {},
   "outputs": [],
   "source": [
    "pickle.dump(pipe,open('D:/sudesh/bike prediction model/LinearRegressionModellll.pkl','wb'))"
   ]
  },
  {
   "cell_type": "code",
   "execution_count": 64,
   "id": "e2e8ca2b",
   "metadata": {},
   "outputs": [
    {
     "data": {
      "text/plain": [
       "array([210783.56642296])"
      ]
     },
     "execution_count": 64,
     "metadata": {},
     "output_type": "execute_result"
    }
   ],
   "source": [
    "pipe.predict(pd.DataFrame([['Royal Enfield Himalayan','411.0 CC','45 Km/l','191 Kg']], columns=['Model_Name','CC','Mileage','Weight']))"
   ]
  },
  {
   "cell_type": "code",
   "execution_count": 65,
   "id": "419a6143",
   "metadata": {},
   "outputs": [
    {
     "name": "stdout",
     "output_type": "stream",
     "text": [
      "<class 'pandas.core.frame.DataFrame'>\n",
      "RangeIndex: 3533 entries, 0 to 3532\n",
      "Data columns (total 5 columns):\n",
      " #   Column      Non-Null Count  Dtype \n",
      "---  ------      --------------  ----- \n",
      " 0   Model_Name  3533 non-null   object\n",
      " 1   Price       3533 non-null   int32 \n",
      " 2   CC          3533 non-null   object\n",
      " 3   Mileage     3506 non-null   object\n",
      " 4   Weight      3533 non-null   object\n",
      "dtypes: int32(1), object(4)\n",
      "memory usage: 124.3+ KB\n"
     ]
    }
   ],
   "source": [
    "bike.info()"
   ]
  },
  {
   "cell_type": "code",
   "execution_count": 70,
   "id": "4a35f0de",
   "metadata": {},
   "outputs": [
    {
     "data": {
      "text/plain": [
       "<bound method NDFrame.describe of                         Model_Name   Price        CC     Mileage  Weight\n",
       "0          Royal Enfield Himalayan  210784  411.0 CC     45 Km/l  191 Kg\n",
       "1     Royal Enfield Classic Chrome  188868  499.0 CC     27 Km/l  194 Kg\n",
       "2         Royal Enfield Meteor 350  205844  349.0 CC  41.88 Km/l  183 Kg\n",
       "3         Royal Enfield Bullet 350  127094  346.0 CC     45 Km/l  183 Kg\n",
       "4                  Hero Splendor +   69380   97.2 CC     70 Km/l  110 Kg\n",
       "...                            ...     ...       ...         ...     ...\n",
       "3528     Royal Enfield Classic 350  184374  349.0 CC     37 Km/l  195 Kg\n",
       "3529                  Yamaha MT-15  144900  155.0 CC     48 Km/l  138 Kg\n",
       "3530                     Honda Dio   64510  109.5 CC     55 Km/l  103 Kg\n",
       "3531                  Honda SP 125   78381  124.0 CC     65 Km/l  117 Kg\n",
       "3532                Hero HF Deluxe   48950   97.2 CC     83 Km/l  109 Kg\n",
       "\n",
       "[3533 rows x 5 columns]>"
      ]
     },
     "execution_count": 70,
     "metadata": {},
     "output_type": "execute_result"
    }
   ],
   "source": [
    "bike.describe"
   ]
  },
  {
   "cell_type": "code",
   "execution_count": null,
   "id": "81158b36",
   "metadata": {},
   "outputs": [],
   "source": []
  }
 ],
 "metadata": {
  "kernelspec": {
   "display_name": "Python 3 (ipykernel)",
   "language": "python",
   "name": "python3"
  },
  "language_info": {
   "codemirror_mode": {
    "name": "ipython",
    "version": 3
   },
   "file_extension": ".py",
   "mimetype": "text/x-python",
   "name": "python",
   "nbconvert_exporter": "python",
   "pygments_lexer": "ipython3",
   "version": "3.11.5"
  }
 },
 "nbformat": 4,
 "nbformat_minor": 5
}
